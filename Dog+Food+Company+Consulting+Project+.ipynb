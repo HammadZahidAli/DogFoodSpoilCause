{
 "cells": [
  {
   "cell_type": "markdown",
   "metadata": {},
   "source": [
    "# Dog Food Company Consulting Project "
   ]
  },
  {
   "cell_type": "markdown",
   "metadata": {},
   "source": [
    "You've been hired by a dog food company to try to predict why some batches of their dog food are spoiling much quicker than intended! Unfortunately this Dog Food company hasn't upgraded to the latest machinery, meaning that the amounts of the five preservative chemicals they are using can vary a lot, but which is the chemical that has the strongest effect? The dog food company first mixes up a batch of preservative that contains 4 different preservative chemicals (A,B,C,D) and then is completed with a \"filler\" chemical. The food scientists beelive one of the A,B,C, or D preservatives is causing the problem, but need your help to figure out which one!\n",
    "Use Machine Learning with RF to find out which parameter had the most predicitive power, thus finding out which chemical causes the early spoiling! So create a model and then find out how you can decide which chemical is the problem!\n",
    "\n",
    "* Pres_A : Percentage of preservative A in the mix\n",
    "* Pres_B : Percentage of preservative B in the mix\n",
    "* Pres_C : Percentage of preservative C in the mix\n",
    "* Pres_D : Percentage of preservative D in the mix\n",
    "* Spoiled: Label indicating whether or not the dog food batch was spoiled.\n",
    "___\n",
    "\n",
    "**Think carefully about what this problem is really asking you to solve. While we will use Machine Learning to solve this, it won't be with your typical train/test split workflow. If this confuses you, skip ahead to the solution code along walk-through!**\n",
    "____"
   ]
  },
  {
   "cell_type": "code",
   "execution_count": 1,
   "metadata": {
    "collapsed": true
   },
   "outputs": [],
   "source": [
    "from pyspark.sql import SparkSession\n",
    "\n",
    "spark = SparkSession.builder.appName(\"Dog Food Spoiling\").getOrCreate()"
   ]
  },
  {
   "cell_type": "code",
   "execution_count": 5,
   "metadata": {
    "collapsed": true
   },
   "outputs": [],
   "source": [
    "data = spark.read.csv(\"dog_food.csv\",header=True,inferSchema=True)"
   ]
  },
  {
   "cell_type": "code",
   "execution_count": 6,
   "metadata": {},
   "outputs": [
    {
     "name": "stdout",
     "output_type": "stream",
     "text": [
      "+---+---+----+---+-------+\n",
      "|  A|  B|   C|  D|Spoiled|\n",
      "+---+---+----+---+-------+\n",
      "|  4|  2|12.0|  3|    1.0|\n",
      "|  5|  6|12.0|  7|    1.0|\n",
      "|  6|  2|13.0|  6|    1.0|\n",
      "|  4|  2|12.0|  1|    1.0|\n",
      "|  4|  2|12.0|  3|    1.0|\n",
      "| 10|  3|13.0|  9|    1.0|\n",
      "|  8|  5|14.0|  5|    1.0|\n",
      "|  5|  8|12.0|  8|    1.0|\n",
      "|  6|  5|12.0|  9|    1.0|\n",
      "|  3|  3|12.0|  1|    1.0|\n",
      "|  9|  8|11.0|  3|    1.0|\n",
      "|  1| 10|12.0|  3|    1.0|\n",
      "|  1|  5|13.0| 10|    1.0|\n",
      "|  2| 10|12.0|  6|    1.0|\n",
      "|  1| 10|11.0|  4|    1.0|\n",
      "|  5|  3|12.0|  2|    1.0|\n",
      "|  4|  9|11.0|  8|    1.0|\n",
      "|  5|  1|11.0|  1|    1.0|\n",
      "|  4|  9|12.0| 10|    1.0|\n",
      "|  5|  8|10.0|  9|    1.0|\n",
      "+---+---+----+---+-------+\n",
      "only showing top 20 rows\n",
      "\n"
     ]
    }
   ],
   "source": [
    "data.show()"
   ]
  },
  {
   "cell_type": "code",
   "execution_count": 7,
   "metadata": {},
   "outputs": [
    {
     "name": "stdout",
     "output_type": "stream",
     "text": [
      "root\n",
      " |-- A: integer (nullable = true)\n",
      " |-- B: integer (nullable = true)\n",
      " |-- C: double (nullable = true)\n",
      " |-- D: integer (nullable = true)\n",
      " |-- Spoiled: double (nullable = true)\n",
      "\n"
     ]
    }
   ],
   "source": [
    "data.printSchema()"
   ]
  },
  {
   "cell_type": "code",
   "execution_count": 8,
   "metadata": {},
   "outputs": [
    {
     "data": {
      "text/plain": [
       "['A', 'B', 'C', 'D', 'Spoiled']"
      ]
     },
     "execution_count": 8,
     "metadata": {},
     "output_type": "execute_result"
    }
   ],
   "source": [
    "data.columns"
   ]
  },
  {
   "cell_type": "code",
   "execution_count": 11,
   "metadata": {},
   "outputs": [
    {
     "name": "stdout",
     "output_type": "stream",
     "text": [
      "+-------+------------------+------------------+------------------+------------------+-------------------+\n",
      "|summary|                 A|                 B|                 C|                 D|            Spoiled|\n",
      "+-------+------------------+------------------+------------------+------------------+-------------------+\n",
      "|  count|               490|               490|               490|               490|                490|\n",
      "|   mean|  5.53469387755102| 5.504081632653061| 9.126530612244897| 5.579591836734694| 0.2857142857142857|\n",
      "| stddev|2.9515204234399057|2.8537966089662063|2.0555451971054275|2.8548369309982857|0.45221563164613465|\n",
      "|    min|                 1|                 1|               5.0|                 1|                0.0|\n",
      "|    max|                10|                10|              14.0|                10|                1.0|\n",
      "+-------+------------------+------------------+------------------+------------------+-------------------+\n",
      "\n"
     ]
    }
   ],
   "source": [
    "data.describe().show()"
   ]
  },
  {
   "cell_type": "code",
   "execution_count": 13,
   "metadata": {},
   "outputs": [],
   "source": [
    "from pyspark.ml.feature import VectorAssembler"
   ]
  },
  {
   "cell_type": "code",
   "execution_count": 14,
   "metadata": {
    "collapsed": true
   },
   "outputs": [],
   "source": [
    "assembler = VectorAssembler(inputCols=['A', 'B', 'C', 'D'],outputCol='features')"
   ]
  },
  {
   "cell_type": "code",
   "execution_count": 15,
   "metadata": {
    "collapsed": true
   },
   "outputs": [],
   "source": [
    "a_data = assembler.transform(data)"
   ]
  },
  {
   "cell_type": "code",
   "execution_count": 16,
   "metadata": {},
   "outputs": [
    {
     "data": {
      "text/plain": [
       "DataFrame[A: int, B: int, C: double, D: int, Spoiled: double, features: vector]"
      ]
     },
     "execution_count": 16,
     "metadata": {},
     "output_type": "execute_result"
    }
   ],
   "source": [
    "a_data"
   ]
  },
  {
   "cell_type": "code",
   "execution_count": 17,
   "metadata": {},
   "outputs": [
    {
     "name": "stdout",
     "output_type": "stream",
     "text": [
      "+---+---+----+---+-------+-------------------+\n",
      "|  A|  B|   C|  D|Spoiled|           features|\n",
      "+---+---+----+---+-------+-------------------+\n",
      "|  4|  2|12.0|  3|    1.0| [4.0,2.0,12.0,3.0]|\n",
      "|  5|  6|12.0|  7|    1.0| [5.0,6.0,12.0,7.0]|\n",
      "|  6|  2|13.0|  6|    1.0| [6.0,2.0,13.0,6.0]|\n",
      "|  4|  2|12.0|  1|    1.0| [4.0,2.0,12.0,1.0]|\n",
      "|  4|  2|12.0|  3|    1.0| [4.0,2.0,12.0,3.0]|\n",
      "| 10|  3|13.0|  9|    1.0|[10.0,3.0,13.0,9.0]|\n",
      "|  8|  5|14.0|  5|    1.0| [8.0,5.0,14.0,5.0]|\n",
      "|  5|  8|12.0|  8|    1.0| [5.0,8.0,12.0,8.0]|\n",
      "|  6|  5|12.0|  9|    1.0| [6.0,5.0,12.0,9.0]|\n",
      "|  3|  3|12.0|  1|    1.0| [3.0,3.0,12.0,1.0]|\n",
      "|  9|  8|11.0|  3|    1.0| [9.0,8.0,11.0,3.0]|\n",
      "|  1| 10|12.0|  3|    1.0|[1.0,10.0,12.0,3.0]|\n",
      "|  1|  5|13.0| 10|    1.0|[1.0,5.0,13.0,10.0]|\n",
      "|  2| 10|12.0|  6|    1.0|[2.0,10.0,12.0,6.0]|\n",
      "|  1| 10|11.0|  4|    1.0|[1.0,10.0,11.0,4.0]|\n",
      "|  5|  3|12.0|  2|    1.0| [5.0,3.0,12.0,2.0]|\n",
      "|  4|  9|11.0|  8|    1.0| [4.0,9.0,11.0,8.0]|\n",
      "|  5|  1|11.0|  1|    1.0| [5.0,1.0,11.0,1.0]|\n",
      "|  4|  9|12.0| 10|    1.0|[4.0,9.0,12.0,10.0]|\n",
      "|  5|  8|10.0|  9|    1.0| [5.0,8.0,10.0,9.0]|\n",
      "+---+---+----+---+-------+-------------------+\n",
      "only showing top 20 rows\n",
      "\n"
     ]
    }
   ],
   "source": [
    "a_data.show()"
   ]
  },
  {
   "cell_type": "code",
   "execution_count": 19,
   "metadata": {},
   "outputs": [],
   "source": [
    "from pyspark.ml.classification import RandomForestClassifier,DecisionTreeClassifier"
   ]
  },
  {
   "cell_type": "code",
   "execution_count": 42,
   "metadata": {},
   "outputs": [],
   "source": [
    "rfc = RandomForestClassifier(labelCol='Spoiled',featuresCol='features')\n",
    "dtc = DecisionTreeClassifier(labelCol ='Spoiled',featuresCol='features')"
   ]
  },
  {
   "cell_type": "code",
   "execution_count": 43,
   "metadata": {
    "collapsed": true
   },
   "outputs": [],
   "source": [
    "# Model"
   ]
  },
  {
   "cell_type": "code",
   "execution_count": 44,
   "metadata": {},
   "outputs": [],
   "source": [
    "# But only relevant columnsfrc_model = rfc.fit(a_data)\n",
    "dtc_model = dtc.fit(a_data)"
   ]
  },
  {
   "cell_type": "code",
   "execution_count": 46,
   "metadata": {
    "collapsed": true
   },
   "outputs": [],
   "source": [
    "final_data = a_data.select('features','Spoiled')"
   ]
  },
  {
   "cell_type": "code",
   "execution_count": 47,
   "metadata": {},
   "outputs": [
    {
     "name": "stdout",
     "output_type": "stream",
     "text": [
      "+-------------------+-------+\n",
      "|           features|Spoiled|\n",
      "+-------------------+-------+\n",
      "| [4.0,2.0,12.0,3.0]|    1.0|\n",
      "| [5.0,6.0,12.0,7.0]|    1.0|\n",
      "| [6.0,2.0,13.0,6.0]|    1.0|\n",
      "| [4.0,2.0,12.0,1.0]|    1.0|\n",
      "| [4.0,2.0,12.0,3.0]|    1.0|\n",
      "|[10.0,3.0,13.0,9.0]|    1.0|\n",
      "| [8.0,5.0,14.0,5.0]|    1.0|\n",
      "| [5.0,8.0,12.0,8.0]|    1.0|\n",
      "| [6.0,5.0,12.0,9.0]|    1.0|\n",
      "| [3.0,3.0,12.0,1.0]|    1.0|\n",
      "| [9.0,8.0,11.0,3.0]|    1.0|\n",
      "|[1.0,10.0,12.0,3.0]|    1.0|\n",
      "|[1.0,5.0,13.0,10.0]|    1.0|\n",
      "|[2.0,10.0,12.0,6.0]|    1.0|\n",
      "|[1.0,10.0,11.0,4.0]|    1.0|\n",
      "| [5.0,3.0,12.0,2.0]|    1.0|\n",
      "| [4.0,9.0,11.0,8.0]|    1.0|\n",
      "| [5.0,1.0,11.0,1.0]|    1.0|\n",
      "|[4.0,9.0,12.0,10.0]|    1.0|\n",
      "| [5.0,8.0,10.0,9.0]|    1.0|\n",
      "+-------------------+-------+\n",
      "only showing top 20 rows\n",
      "\n"
     ]
    }
   ],
   "source": [
    "final_data.show()"
   ]
  },
  {
   "cell_type": "code",
   "execution_count": 50,
   "metadata": {},
   "outputs": [],
   "source": [
    "rfc_model = rfc.fit(final_data)\n",
    "dtc_model = dtc.fit(final_data)"
   ]
  },
  {
   "cell_type": "code",
   "execution_count": 51,
   "metadata": {},
   "outputs": [
    {
     "data": {
      "text/plain": [
       "SparseVector(4, {0: 0.0241, 1: 0.0224, 2: 0.9271, 3: 0.0263})"
      ]
     },
     "execution_count": 51,
     "metadata": {},
     "output_type": "execute_result"
    }
   ],
   "source": [
    "rfc_model.featureImportances"
   ]
  },
  {
   "cell_type": "code",
   "execution_count": 57,
   "metadata": {
    "collapsed": true
   },
   "outputs": [],
   "source": [
    "# So here is as feature is our cols and col at index 2  is causing the issue \n",
    "\n",
    "# it is C chemical\n",
    "\n",
    "#_____________"
   ]
  },
  {
   "cell_type": "code",
   "execution_count": 56,
   "metadata": {},
   "outputs": [
    {
     "name": "stdout",
     "output_type": "stream",
     "text": [
      "+-------------------+-------+--------------------+--------------------+----------+\n",
      "|           features|Spoiled|       rawPrediction|         probability|prediction|\n",
      "+-------------------+-------+--------------------+--------------------+----------+\n",
      "| [4.0,2.0,12.0,3.0]|    1.0|          [0.0,20.0]|           [0.0,1.0]|       1.0|\n",
      "| [5.0,6.0,12.0,7.0]|    1.0|[0.76190476190476...|[0.03809523809523...|       1.0|\n",
      "| [6.0,2.0,13.0,6.0]|    1.0|[0.55384615384615...|[0.02769230769230...|       1.0|\n",
      "| [4.0,2.0,12.0,1.0]|    1.0|          [0.0,20.0]|           [0.0,1.0]|       1.0|\n",
      "| [4.0,2.0,12.0,3.0]|    1.0|          [0.0,20.0]|           [0.0,1.0]|       1.0|\n",
      "|[10.0,3.0,13.0,9.0]|    1.0|[1.64516129032258...|[0.08225806451612...|       1.0|\n",
      "| [8.0,5.0,14.0,5.0]|    1.0|[0.76190476190476...|[0.03809523809523...|       1.0|\n",
      "| [5.0,8.0,12.0,8.0]|    1.0|[1.05602240896358...|[0.05280112044817...|       1.0|\n",
      "| [6.0,5.0,12.0,9.0]|    1.0|    [0.9375,19.0625]| [0.046875,0.953125]|       1.0|\n",
      "| [3.0,3.0,12.0,1.0]|    1.0|          [0.0,20.0]|           [0.0,1.0]|       1.0|\n",
      "| [9.0,8.0,11.0,3.0]|    1.0|[1.92857142857142...|[0.09642857142857...|       1.0|\n",
      "|[1.0,10.0,12.0,3.0]|    1.0|          [0.0,20.0]|           [0.0,1.0]|       1.0|\n",
      "|[1.0,5.0,13.0,10.0]|    1.0|          [0.0,20.0]|           [0.0,1.0]|       1.0|\n",
      "|[2.0,10.0,12.0,6.0]|    1.0|[0.76190476190476...|[0.03809523809523...|       1.0|\n",
      "|[1.0,10.0,11.0,4.0]|    1.0|          [0.0,20.0]|           [0.0,1.0]|       1.0|\n",
      "| [5.0,3.0,12.0,2.0]|    1.0|          [0.0,20.0]|           [0.0,1.0]|       1.0|\n",
      "| [4.0,9.0,11.0,8.0]|    1.0|[1.26190476190476...|[0.06309523809523...|       1.0|\n",
      "| [5.0,1.0,11.0,1.0]|    1.0|[0.16666666666666...|[0.00833333333333...|       1.0|\n",
      "|[4.0,9.0,12.0,10.0]|    1.0|[2.52083333333333...|[0.12604166666666...|       1.0|\n",
      "| [5.0,8.0,10.0,9.0]|    1.0|[12.8378169654482...|[0.64189084827241...|       0.0|\n",
      "+-------------------+-------+--------------------+--------------------+----------+\n",
      "only showing top 20 rows\n",
      "\n"
     ]
    }
   ],
   "source": [
    "rfc_model_pred = rfc.fit(final_data).transform(final_data)\n",
    "rfc_model_pred.show()"
   ]
  },
  {
   "cell_type": "code",
   "execution_count": null,
   "metadata": {
    "collapsed": true
   },
   "outputs": [],
   "source": []
  }
 ],
 "metadata": {
  "anaconda-cloud": {},
  "kernelspec": {
   "display_name": "Python 3",
   "language": "python",
   "name": "python3"
  },
  "language_info": {
   "codemirror_mode": {
    "name": "ipython",
    "version": 3
   },
   "file_extension": ".py",
   "mimetype": "text/x-python",
   "name": "python",
   "nbconvert_exporter": "python",
   "pygments_lexer": "ipython3",
   "version": "3.6.2"
  }
 },
 "nbformat": 4,
 "nbformat_minor": 1
}
